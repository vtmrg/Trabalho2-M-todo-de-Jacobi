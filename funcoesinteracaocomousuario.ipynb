'''Funções de ler/criar matriz'''

# cria e retorna uma matriz (linhas x colunas) com conteúdo celula (ou zero por default)
def criar_matriz(linhas, colunas, celula=0):
    m = [0] * linhas
    for i in range(len(m)):
        m[i] = [celula] * colunas
    return m

# criar e depois lê uma matriz (linhas x colunas)
def ler_matriz(nome, linhas, colunas):
    print(f"Dados da matriz {nome}:")
    m = criar_matriz(linhas, colunas)
    for i in range(len(m)):
        for j in range(len(m[i])):
            while True:
                try:
                    m[i][j] = float(input(f"   - célula [{i}][{j}]: "))
                    break
                except ValueError:
                    print("Erro: o valor digitado não é um número válido. Tente novamente.")
    return m

# le as dimensões (linha e coluna) e retorna como tupla
def ler_dimensao(nome):
    print(f"Para a {nome}, qual a dimensão?")
    lin = int(input("   - quantidade de linhas: "))
    col = int(input("   - quantidade de colunas: "))
    return lin, col  # retorna uma tupla
