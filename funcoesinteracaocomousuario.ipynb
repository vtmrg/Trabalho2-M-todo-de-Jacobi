{
  "nbformat": 4,
  "nbformat_minor": 0,
  "metadata": {
    "colab": {
      "provenance": []
    },
    "kernelspec": {
      "name": "python3",
      "display_name": "Python 3"
    },
    "language_info": {
      "name": "python"
    }
  },
  "cells": [
    {
      "cell_type": "code",
      "execution_count": null,
      "metadata": {
        "id": "_Pkg27LAYXYS"
      },
      "outputs": [],
      "source": [
        "'''Funções de ler/criar matriz'''\n",
        "\n",
        "# cria e retorna uma matriz (linhas x colunas) com conteúdo celula (ou zero por default)\n",
        "def criar_matriz(linhas, colunas, celula=0):\n",
        "    m = [0] * linhas\n",
        "    for i in range(len(m)):\n",
        "        m[i] = [celula] * colunas\n",
        "    return m\n",
        "\n",
        "# criar e depois lê uma matriz (linhas x colunas)\n",
        "def ler_matriz(nome, linhas, colunas):\n",
        "    print(f\"Dados da matriz {nome}:\")\n",
        "    m = criar_matriz(linhas, colunas)\n",
        "    for i in range(len(m)):\n",
        "        for j in range(len(m[i])):\n",
        "            while True:\n",
        "                try:\n",
        "                    m[i][j] = float(input(f\"   - célula [{i}][{j}]: \"))\n",
        "                    break\n",
        "                except ValueError:\n",
        "                    print(\"Erro: o valor digitado não é um número válido. Tente novamente.\")\n",
        "    return m\n",
        "\n",
        "# le as dimensões (linha e coluna) e retorna como tupla\n",
        "def ler_dimensao(nome):\n",
        "    print(f\"Para a {nome}, qual a dimensão?\")\n",
        "    lin = int(input(\"   - quantidade de linhas: \"))\n",
        "    col = int(input(\"   - quantidade de colunas: \"))\n",
        "    return lin, col  # retorna uma tupla\n"
      ]
    }
  ]
}