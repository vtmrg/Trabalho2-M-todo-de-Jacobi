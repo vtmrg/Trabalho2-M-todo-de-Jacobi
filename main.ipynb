{
  "nbformat": 4,
  "nbformat_minor": 0,
  "metadata": {
    "colab": {
      "provenance": []
    },
    "kernelspec": {
      "name": "python3",
      "display_name": "Python 3"
    },
    "language_info": {
      "name": "python"
    }
  },
  "cells": [
    {
      "cell_type": "code",
      "execution_count": null,
      "metadata": {
        "id": "_Pkg27LAYXYS"
      },
      "outputs": [],
      "source": [
        "\n",
        "'''main ???'''\n",
        "\n",
        "'''Leitura de três matrizes A, x e B, colocar saídas de texto'''\n",
        "\n",
        "print('Preencha os valores A*x=B')\n",
        "dim_A = ler_dimensao(\"matriz A\")\n",
        "dim_x = (dim_A[0], 1)\n",
        "dim_B = dim_A\n",
        "\n",
        "matriz_A = ler_matriz(\"A\", *dim_A)\n",
        "matriz_x = criar_matriz(*dim_x)\n",
        "for i in range(dim_x[0]):\n",
        "    matriz_x[i][0] = f'x{i+1}'\n",
        "\n",
        "print(matriz_x)\n",
        "matriz_B = ler_matriz(\"B\", *dim_B)\n",
        "\n",
        "matrizbb=matrizB(matriz_A)\n",
        "print(matrizbb)\n"
      ]
    }
  ]
}